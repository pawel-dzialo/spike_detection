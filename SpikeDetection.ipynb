{
 "cells": [
  {
   "cell_type": "code",
   "execution_count": 2,
   "metadata": {},
   "outputs": [],
   "source": [
    "import numpy as np\n",
    "import mne\n",
    "import matplotlib.pyplot as plt\n",
    "\n",
    "import os\n",
    "\n",
    "\n",
    "\n",
    "\n",
    "\n",
    "#file = \"chb01_04.edf\"\n",
    "#data = mne.io.read_raw_edf(file)\n",
    "#raw_data = data.get_data()\n",
    "#channels = []\n",
    "#for channel in raw_data:\n",
    " #   channels.append(splitperiod(channel,5,256))\n",
    "#spikes = []\n",
    "#for i, channel in enumerate(channels):\n",
    "   # spikes.append([])\n",
    "  #  for segment in channel:\n",
    " #       spikes[i].append(spikeamount(segment, 0.0001,0.04,0.07,256))\n",
    "#smoothedspikes = []\n",
    "#for channel in spikes:\n",
    " #   smoothedspikes.append(smoothspikes(channel,7))\n",
    "\n",
    "#alarms = []\n",
    "#for channel in smoothedspikes:\n",
    "    #isdumped = 0\n",
    "    #for i,spikes in enumerate(channel):\n",
    "     #   if spikes>maxspikes_inter*1.3:\n",
    "    #        if isdumped == 0:\n",
    "   #             alarms.append(i*5)\n",
    "  #              isdumped = 1\n",
    " #           print(\"Alarm at\"+str(i*5)+\"seconds\")\n",
    "#print(alarms)\n",
    "\n",
    "#data = [0,0,0,0,0,0,0,0,0,0,4,4,4,0,0,0,0,5,5,5,5,5,5,5,5,5,5,5,5,5,5,5,5,5,5,5,5,0,0,0,0,0]\n",
    "#smooth_data = smoothspikes(data,4)\n",
    "#print(smooth_data)\n",
    "\n",
    "#print(spikeamount(smooth_data, 2.99,1,4,1))\n",
    "\n",
    "\n"
   ]
  },
  {
   "cell_type": "code",
   "execution_count": 3,
   "metadata": {},
   "outputs": [],
   "source": [
    "# funktioner\n",
    "\n",
    "#Takes period segment, voltage threshold, min spike duration in seconds, max spike duration in seconds, and the sampling frequency, returns the amount of spikes in the segment udner those conditions.\n",
    "def spikeamount(segment, spike_thresh, spike_min, spike_max, samp_freq):\n",
    "    sample_count = 0\n",
    "    spikes = 0\n",
    "    spike_min = spike_min*samp_freq\n",
    "    spike_max = spike_max*samp_freq\n",
    "    for sample in segment:\n",
    "        if sample > spike_thresh:\n",
    "            sample_count += 1\n",
    "        elif sample_count > spike_min and sample_count < spike_max:\n",
    "            spikes += 1\n",
    "            sample_count = 0\n",
    "        else:\n",
    "            sample_count = 0\n",
    "    return spikes\n",
    "\n",
    "#Takes a period as list of samples, desired segment length in seconds and the sampling frequency, returns a list of segments of the period {{},{},...{}}\n",
    "def splitperiod(period, segment_length, sampling_freq):\n",
    "    segments = []\n",
    "    current_segment = []\n",
    "    sample_seglen = segment_length * sampling_freq\n",
    "    for i, sample in enumerate(period):\n",
    "        current_segment.append(sample)\n",
    "        if i%sample_seglen == 0 and i!=0:\n",
    "            segments.append(current_segment)\n",
    "            current_segment = []\n",
    "    return segments\n",
    "#takes list of spike amounts, returns list of smoothed spike amounts (smoothed spike amount is the average of M neighbour spike amount)\n",
    "def smoothspikes(spikes, M):\n",
    "    smoothspikes = []\n",
    "    window_min = -(M//2)\n",
    "    window_max = M//2\n",
    "    for spike in spikes:\n",
    "        curravg = 0\n",
    "        if window_min<0:\n",
    "            for i in range(0,M):\n",
    "                curravg+=spikes[i]\n",
    "            smoothspikes.append(curravg/M)\n",
    "        elif window_max>=len(spikes):\n",
    "            for i in range (0,M):\n",
    "                curravg+=spikes[len(spikes)-1-i]\n",
    "            smoothspikes.append(curravg/M)\n",
    "        else:\n",
    "            for i in range(window_min, window_max+1):\n",
    "                curravg+=spikes[i]\n",
    "            smoothspikes.append(curravg/M)\n",
    "        window_min +=1\n",
    "        window_max +=1\n",
    "    return smoothspikes\n"
   ]
  },
  {
   "cell_type": "code",
   "execution_count": null,
   "metadata": {},
   "outputs": [],
   "source": [
    "#test\n",
    "testperiod = [1,1,1,1,1,1,1,1,1,1,1,1,1,1,1,1,1,1,1,1,1,1,1,1,2,2,3,1,1,1,1,1,1,3,3,3,3,3,3,3,3,3,3,1,1,1,1,1,1,1,1,1,1]\n",
    "testspikes = [1,2,3,4,5,6,7,8,9]\n",
    "print(len(testperiod))\n",
    "print(splitperiod(testperiod, 3, 1))\n",
    "for segment in splitperiod(testperiod, 3,1):\n",
    "   # print(spikeamount(segment, 1, 1, 3, 1))\n",
    "   next\n",
    "print(smoothspikes(testspikes, 3))"
   ]
  },
  {
   "cell_type": "code",
   "execution_count": 5,
   "metadata": {},
   "outputs": [
    {
     "name": "stdout",
     "output_type": "stream",
     "text": [
      "Extracting EDF parameters from d:\\Projektkurs Epilepsi\\My CNN\\data\\chb01\\chb01_01.edf...\n",
      "EDF file detected\n",
      "Setting channel info structure...\n",
      "Creating raw.info structure...\n"
     ]
    },
    {
     "name": "stderr",
     "output_type": "stream",
     "text": [
      "C:\\Users\\johan\\AppData\\Local\\Temp\\ipykernel_16632\\2228075999.py:4: RuntimeWarning: Channel names are not unique, found duplicates for: {'T8-P8'}. Applying running numbers for duplicates.\n",
      "  data = mne.io.read_raw_edf(file)\n"
     ]
    },
    {
     "name": "stdout",
     "output_type": "stream",
     "text": [
      "23\n",
      "FT9-FT10\n",
      "[-1.45934066e-04  1.95360195e-07  1.95360195e-07 ... -1.15262515e-05\n",
      " -2.93040293e-06  1.93406593e-05]\n"
     ]
    }
   ],
   "source": [
    "# actual data\n",
    "\n",
    "file = \"data\\chb01\\chb01_01.edf\" #interictal data\n",
    "data = mne.io.read_raw_edf(file)\n",
    "raw_data = data.get_data()\n",
    "# you can get the metadata included in the file and a list of all channels:\n",
    "info = data.info\n",
    "channels = data.ch_names\n",
    "print(len(channels))\n",
    "print(channels[20])\n",
    "print(raw_data[0])"
   ]
  },
  {
   "cell_type": "code",
   "execution_count": 6,
   "metadata": {},
   "outputs": [
    {
     "name": "stdout",
     "output_type": "stream",
     "text": [
      "1.7142857142857142\n"
     ]
    }
   ],
   "source": [
    "channels = []\n",
    "for channel in raw_data:\n",
    "    channels.append(splitperiod(channel, 5, 256))\n",
    "#segments = splitperiod(raw_data[0], 5, 256)\n",
    "spikes = []\n",
    "for i,channel in enumerate(channels):\n",
    "    spikes.append([])\n",
    "    for segment in channel:\n",
    "        spikes[i].append(spikeamount(segment, 0.0001,0.04, 0.07, 256))\n",
    "smoothedspikes = []\n",
    "\n",
    "for channel in spikes:\n",
    "    smoothedspikes.append(smoothspikes(channel, 7))\n",
    "\n",
    "maxspikes_inter = 0\n",
    "\n",
    "for channel in smoothedspikes:\n",
    "    for spikes in channel:\n",
    "        if spikes>maxspikes_inter:\n",
    "            maxspikes_inter = spikes\n",
    "print(maxspikes_inter)\n"
   ]
  },
  {
   "cell_type": "code",
   "execution_count": 18,
   "metadata": {},
   "outputs": [
    {
     "name": "stdout",
     "output_type": "stream",
     "text": [
      "Extracting EDF parameters from d:\\Projektkurs Epilepsi\\My CNN\\data\\chb01\\chb01_01.edf...\n",
      "EDF file detected\n",
      "Setting channel info structure...\n",
      "Creating raw.info structure...\n"
     ]
    },
    {
     "name": "stderr",
     "output_type": "stream",
     "text": [
      "C:\\Users\\johan\\AppData\\Local\\Temp\\ipykernel_16632\\4080443055.py:11: RuntimeWarning: Channel names are not unique, found duplicates for: {'T8-P8'}. Applying running numbers for duplicates.\n",
      "  raw_data = mne.io.read_raw_edf(f).get_data()\n"
     ]
    },
    {
     "name": "stdout",
     "output_type": "stream",
     "text": [
      "[0.2980992118683363, 0.1854427445526194, 0.0013908205841446453, 0.0013908205841446453, 0.2415391747797869, 0.03337969401947146, 0.005563282336578581, 0.0013908205841446453, 0.24942049142327355, 0.020862308762169688, 0.006954102920723225, 0.02503477051460361, 0.28372739916550854, 0.17292535929531716, 0.01668984700973574, 0.06212331942512754, 0.0152990264255911, 0.02086230876216969, 0.005563282336578581, 0.0584144645340751, 0.16643486323597584, 0.09318497913769133, 0.01668984700973574]\n",
      "Earliest alarm at 999999sec in file data\\chb01\\chb01_01.edf\n",
      "Extracting EDF parameters from d:\\Projektkurs Epilepsi\\My CNN\\data\\chb01\\chb01_02.edf...\n",
      "EDF file detected\n",
      "Setting channel info structure...\n",
      "Creating raw.info structure...\n"
     ]
    },
    {
     "name": "stderr",
     "output_type": "stream",
     "text": [
      "C:\\Users\\johan\\AppData\\Local\\Temp\\ipykernel_16632\\4080443055.py:11: RuntimeWarning: Channel names are not unique, found duplicates for: {'T8-P8'}. Applying running numbers for duplicates.\n",
      "  raw_data = mne.io.read_raw_edf(f).get_data()\n"
     ]
    },
    {
     "name": "stdout",
     "output_type": "stream",
     "text": [
      "[0.22299490032452504, 0.055632823365785844, 0.011126564673157159, 0.012517385257301812, 0.2512749188687999, 0.06073249884098287, 0.0027816411682892906, 0.009735744089012515, 0.22392211404728826, 0.06026889197960131, 0.012517385257301807, 0.04728789986091792, 0.17987946221604065, 0.08159480760315262, 0.026425591098748247, 0.09596662030598045, 0.11961057023643948, 0.06722299490032456, 0.00834492350486787, 0.04079740380157626, 0.09457579972183593, 0.04126101066295778, 0.026425591098748247]\n",
      "Earliest alarm at 999999sec in file data\\chb01\\chb01_02.edf\n",
      "Extracting EDF parameters from d:\\Projektkurs Epilepsi\\My CNN\\data\\chb01\\chb01_03.edf...\n",
      "EDF file detected\n",
      "Setting channel info structure...\n",
      "Creating raw.info structure...\n"
     ]
    },
    {
     "name": "stderr",
     "output_type": "stream",
     "text": [
      "C:\\Users\\johan\\AppData\\Local\\Temp\\ipykernel_16632\\4080443055.py:11: RuntimeWarning: Channel names are not unique, found duplicates for: {'T8-P8'}. Applying running numbers for duplicates.\n",
      "  raw_data = mne.io.read_raw_edf(f).get_data()\n"
     ]
    },
    {
     "name": "stdout",
     "output_type": "stream",
     "text": [
      "[0.24895688456189174, 0.11961057023643942, 0.20769587389893385, 0.12702828001854408, 0.5428836346777921, 0.48446917014371715, 0.12656467315716272, 0.23643949930458993, 0.49095966620305853, 0.3922114047287899, 0.18080667593880373, 0.4033379694019473, 0.24895688456189166, 0.2002781641168287, 0.32406119610570266, 0.4575799721835885, 0.5771905424200262, 0.5748725081131185, 0.2313398238293929, 0.015299026425591094, 0.383866481223922, 0.05146036161335184, 0.32406119610570266]\n",
      "Earliest alarm at 715sec in file data\\chb01\\chb01_03.edf\n"
     ]
    },
    {
     "ename": "NotImplementedError",
     "evalue": "Only EDF files are supported, got seizures.",
     "output_type": "error",
     "traceback": [
      "\u001b[1;31m---------------------------------------------------------------------------\u001b[0m",
      "\u001b[1;31mNotImplementedError\u001b[0m                       Traceback (most recent call last)",
      "\u001b[1;32md:\\Projektkurs Epilepsi\\My CNN\\SpikeDetection.ipynb Cell 6\u001b[0m in \u001b[0;36m<cell line: 7>\u001b[1;34m()\u001b[0m\n\u001b[0;32m      <a href='vscode-notebook-cell:/d%3A/Projektkurs%20Epilepsi/My%20CNN/SpikeDetection.ipynb#W6sZmlsZQ%3D%3D?line=8'>9</a>\u001b[0m \u001b[39m# checking if it is a file\u001b[39;00m\n\u001b[0;32m     <a href='vscode-notebook-cell:/d%3A/Projektkurs%20Epilepsi/My%20CNN/SpikeDetection.ipynb#W6sZmlsZQ%3D%3D?line=9'>10</a>\u001b[0m \u001b[39mif\u001b[39;00m os\u001b[39m.\u001b[39mpath\u001b[39m.\u001b[39misfile(f):\n\u001b[1;32m---> <a href='vscode-notebook-cell:/d%3A/Projektkurs%20Epilepsi/My%20CNN/SpikeDetection.ipynb#W6sZmlsZQ%3D%3D?line=10'>11</a>\u001b[0m     raw_data \u001b[39m=\u001b[39m mne\u001b[39m.\u001b[39;49mio\u001b[39m.\u001b[39;49mread_raw_edf(f)\u001b[39m.\u001b[39mget_data()\n\u001b[0;32m     <a href='vscode-notebook-cell:/d%3A/Projektkurs%20Epilepsi/My%20CNN/SpikeDetection.ipynb#W6sZmlsZQ%3D%3D?line=11'>12</a>\u001b[0m     channels \u001b[39m=\u001b[39m []\n\u001b[0;32m     <a href='vscode-notebook-cell:/d%3A/Projektkurs%20Epilepsi/My%20CNN/SpikeDetection.ipynb#W6sZmlsZQ%3D%3D?line=12'>13</a>\u001b[0m     \u001b[39mfor\u001b[39;00m channel \u001b[39min\u001b[39;00m raw_data:\n",
      "File \u001b[1;32md:\\Systemidentifiering\\Ny mapp\\envs\\Excercises3\\lib\\site-packages\\mne\\io\\edf\\edf.py:1383\u001b[0m, in \u001b[0;36mread_raw_edf\u001b[1;34m(input_fname, eog, misc, stim_channel, exclude, infer_types, include, preload, verbose)\u001b[0m\n\u001b[0;32m   1381\u001b[0m ext \u001b[39m=\u001b[39m os\u001b[39m.\u001b[39mpath\u001b[39m.\u001b[39msplitext(input_fname)[\u001b[39m1\u001b[39m][\u001b[39m1\u001b[39m:]\u001b[39m.\u001b[39mlower()\n\u001b[0;32m   1382\u001b[0m \u001b[39mif\u001b[39;00m ext \u001b[39m!=\u001b[39m \u001b[39m'\u001b[39m\u001b[39medf\u001b[39m\u001b[39m'\u001b[39m:\n\u001b[1;32m-> 1383\u001b[0m     \u001b[39mraise\u001b[39;00m \u001b[39mNotImplementedError\u001b[39;00m(\u001b[39mf\u001b[39m\u001b[39m'\u001b[39m\u001b[39mOnly EDF files are supported, got \u001b[39m\u001b[39m{\u001b[39;00mext\u001b[39m}\u001b[39;00m\u001b[39m.\u001b[39m\u001b[39m'\u001b[39m)\n\u001b[0;32m   1384\u001b[0m \u001b[39mreturn\u001b[39;00m RawEDF(input_fname\u001b[39m=\u001b[39minput_fname, eog\u001b[39m=\u001b[39meog, misc\u001b[39m=\u001b[39mmisc,\n\u001b[0;32m   1385\u001b[0m               stim_channel\u001b[39m=\u001b[39mstim_channel, exclude\u001b[39m=\u001b[39mexclude,\n\u001b[0;32m   1386\u001b[0m               infer_types\u001b[39m=\u001b[39minfer_types, preload\u001b[39m=\u001b[39mpreload, include\u001b[39m=\u001b[39minclude,\n\u001b[0;32m   1387\u001b[0m               verbose\u001b[39m=\u001b[39mverbose)\n",
      "\u001b[1;31mNotImplementedError\u001b[0m: Only EDF files are supported, got seizures."
     ]
    }
   ],
   "source": [
    "\n",
    "# assign directory\n",
    "directory = 'data\\chb01'\n",
    "\n",
    "# iterate over files in\n",
    "# that directory\n",
    "for filename in os.listdir(directory):\n",
    "    f = os.path.join(directory, filename)\n",
    "    # checking if it is a file\n",
    "    if os.path.isfile(f):\n",
    "        raw_data = mne.io.read_raw_edf(f).get_data()\n",
    "        channels = []\n",
    "        for channel in raw_data:\n",
    "            channels.append(splitperiod(channel,5,256))\n",
    "        spikes = []\n",
    "        for i, channel in enumerate(channels):\n",
    "            spikes.append([])\n",
    "            for segment in channel:\n",
    "                spikes[i].append(spikeamount(segment, 0.0001,0.04,0.07,256))#segment = window\n",
    "        smoothedspikes = []\n",
    "        for channel in spikes:\n",
    "            smoothedspikes.append(smoothspikes(channel,3))\n",
    "        #[[],[]]\n",
    "        \n",
    "        ## beraknar Interictala periodens procentuella spikes###\n",
    "        # tar smoothedspikes och ger en lista för smoothed spikes mapad mot en lista med hur många gånger det värdet på smoothed spikes skett\n",
    "        channel_spike_amounts = []\n",
    "        channel_window_amounts = []\n",
    "        for channel in smoothedspikes: # skapar en lista för varje kanal, med värdet på smoothed spikes som kan möjligen hända i ett fönster se bild\n",
    "            spikeamounts = []\n",
    "            for val in channel:\n",
    "                if not spikeamounts.exists(val):\n",
    "                    spikeamounts.append(val)\n",
    "            channel_spike_amounts.append(spikeamounts)\n",
    "        sorted_channel_spike_amounts=[]\n",
    "        for channel in channel_spike_amounts: #sorterar varje kanals lista\n",
    "            sorted_channel_spike_amounts.append(channel.sort())\n",
    "        for i,channel in enumerate(smoothedspikes): \n",
    "            channel_window_amounts.append([0] * len(channel_spike_amounts[i]))#skapar en array av nollor som är lika lång som dessa möjliga lista för varje kanal\n",
    "            for val in channel:\n",
    "                channel_window_amounts[i][sorted_channel_spike_amounts.index(val)] += 1 #fyller den med hur många windows det antalet spikes har här\n",
    "        \n",
    "        #calculates the array of percentage of total windows containing a particular value of smoothspike\n",
    "        WindowSpikePercentage = []\n",
    "        for channel in channel_window_amounts:\n",
    "            i = 0\n",
    "            while i < len(channel):\n",
    "                WindowSpikePercentage.append(channel[i]/sum(channel))\n",
    "                i+=1\n",
    "        \n",
    "        #Calculate derivative #####\n",
    "        for channel in channel_window_amounts:\n",
    "            WindowDerivative = []\n",
    "            while i < len(channel):\n",
    "                der = (WindowSpikePercentage[i+1]-WindowSpikePercentage[i])/(sorted_channel_spike_amounts[i+1]-sorted_channel_spike_amounts[i])\n",
    "                WindowDerivative.append(der)\n",
    "                \n",
    "        ###########################        \n",
    "                \n",
    "                \n",
    "        \n",
    "        sumsx = []\n",
    "        sumsy = []\n",
    "        for channel in smoothedspikes: # tar varje kannal smoothspike = [[0.3,0.4,...][][]] dvs den består av arrayer (kanaler) med värden som är för varje window i kanalen i en array (smoothspike)\n",
    "            sumx = 0 \n",
    "            sumy = 0 \n",
    "            for val in channel: # tar varje värde på antal smoothspike i kanal\n",
    "                sumx += val #summan av alla spikar\n",
    "                sumy += 1 #antalet fönster i kanalen\n",
    "            sumsx.append(sumx)\n",
    "            sumsy.append(sumy)\n",
    "        means = []\n",
    "        for i,val in enumerate(sumsx):\n",
    "            means.append(val/(sumsy[i]))\n",
    "      \n",
    "      \n",
    "        #working #####\n",
    "        #sumx = 0\n",
    "        #sumy = 0\n",
    "        \n",
    "        #calculates mean spikes for all channels\n",
    "        #for i,value in enumerate(x):\n",
    "        #    sumx +=value \n",
    "         #   sumy +=y[i]\n",
    "        #mean = sumx/sumy\n",
    "        #########################\n",
    "        #calculates mean spikes for all channels\n",
    "        #for i,value in enumerate(x):\n",
    "        #    sumx +=value \n",
    "        #    sumy +=y[i]\n",
    "        #mean = sumx/sumy\n",
    "        \n",
    "        print(means)\n",
    "        \n",
    "        \n",
    "        \n",
    "        alarms = []\n",
    "        for j,channel in enumerate(smoothedspikes):\n",
    "            alarm = []\n",
    "            \n",
    "            for i, spikes in enumerate(channel):\n",
    "                if :\n",
    "                    alarm.append(i)\n",
    "            alarms.append(alarm)\n",
    "        lowest_alarm = 999999\n",
    "        equal = 1\n",
    "        for i,channel in enumerate(alarms):\n",
    "            for alarm in channel:\n",
    "                equal = 1\n",
    "                for j in range(0,len(alarms)):\n",
    "                    if j!=i:\n",
    "                        for sample in alarms[j]:\n",
    "                            if sample == alarm:\n",
    "                                equal +=1\n",
    "                                if equal == 3:\n",
    "                                    equal =1\n",
    "                                    if sample*5 < lowest_alarm:\n",
    "                                        lowest_alarm = sample*5\n",
    "        print(\"Earliest alarm at \" +str(lowest_alarm)+\"sec in file \"+f)\n",
    "        "
   ]
  },
  {
   "cell_type": "code",
   "execution_count": 30,
   "metadata": {},
   "outputs": [
    {
     "name": "stdout",
     "output_type": "stream",
     "text": [
      "[-0.04914232730644458, -0.06583217431617996, 0.2063050533147892, 0.12563745943439944, 0.3013444598980052, 0.4510894761242457, 0.12100139082058413, 0.2350486787204453, 0.24153917477978498, 0.3713490959666202, 0.1738525730180805, 0.3783031988873437, -0.03477051460361688, 0.027352804821511534, 0.3073713490959669, 0.3954566527584609, 0.5618915159944351, 0.5540101993509489, 0.22577654149281431, -0.043115438108484005, 0.21743161798794614, -0.041724617524339494, 0.3073713490959669]\n",
      "warning\n",
      "warning\n",
      "warning\n",
      "warning\n",
      "warning\n"
     ]
    }
   ],
   "source": [
    "meanNoseazure = [0.2980992118683363, 0.1854427445526194, 0.0013908205841446453, 0.0013908205841446453, 0.2415391747797869, 0.03337969401947146, 0.005563282336578581, 0.0013908205841446453, 0.24942049142327355, 0.020862308762169688, 0.006954102920723225, 0.02503477051460361, 0.28372739916550854, 0.17292535929531716, 0.01668984700973574, 0.06212331942512754, 0.0152990264255911, 0.02086230876216969, 0.005563282336578581, 0.0584144645340751, 0.16643486323597584, 0.09318497913769133, 0.01668984700973574]\n",
    "meanSeazure = [0.24895688456189174, 0.11961057023643942, 0.20769587389893385, 0.12702828001854408, 0.5428836346777921, 0.48446917014371715, 0.12656467315716272, 0.23643949930458993, 0.49095966620305853, 0.3922114047287899, 0.18080667593880373, 0.4033379694019473, 0.24895688456189166, 0.2002781641168287, 0.32406119610570266, 0.4575799721835885, 0.5771905424200262, 0.5748725081131185, 0.2313398238293929, 0.015299026425591094, 0.383866481223922, 0.05146036161335184, 0.32406119610570266]\n",
    "meandiff = []\n",
    "for i,val in enumerate(meanNoseazure):\n",
    "    meandiff.append(meanSeazure[i] - val)\n",
    "print(meandiff)\n",
    "\n",
    "meandiff = [0.4914232730644458, 0.6583217431617996, 0.2063050533147892, 0.12563745943439944, 0.3013444598980052, 0.4510894761242457, 0.12100139082058413, 0.2350486787204453, 0.24153917477978498, 0.3713490959666202, 0.1738525730180805, 0.3783031988873437, 0.3477051460361688, 0.27352804821511534, 0.3073713490959669, 0.3954566527584609, 0.5618915159944351, 0.5540101993509489, 0.22577654149281431, 0.43115438108484005, 0.21743161798794614, 0.41724617524339494, 0.3073713490959669]\n",
    "for i,val in enumerate(meanNoseazure):\n",
    "    if val > meanSeazure[i]:\n",
    "        print('warning')"
   ]
  }
 ],
 "metadata": {
  "kernelspec": {
   "display_name": "Python 3.9.13 ('Excercises3')",
   "language": "python",
   "name": "python3"
  },
  "language_info": {
   "codemirror_mode": {
    "name": "ipython",
    "version": 3
   },
   "file_extension": ".py",
   "mimetype": "text/x-python",
   "name": "python",
   "nbconvert_exporter": "python",
   "pygments_lexer": "ipython3",
   "version": "3.9.13"
  },
  "orig_nbformat": 4,
  "vscode": {
   "interpreter": {
    "hash": "63a2c8181135182908e7a44537c96e145b469675e4ebcdb9b6164fbe8fa92c3f"
   }
  }
 },
 "nbformat": 4,
 "nbformat_minor": 2
}
